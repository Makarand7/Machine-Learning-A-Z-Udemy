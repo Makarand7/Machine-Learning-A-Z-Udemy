{
 "cells": [
  {
   "cell_type": "code",
   "execution_count": 1,
   "id": "14e51162-b13b-4417-ba63-b6854eae1734",
   "metadata": {},
   "outputs": [
    {
     "name": "stdout",
     "output_type": "stream",
     "text": [
      "Pregnancies                 False\n",
      "Glucose                     False\n",
      "BloodPressure               False\n",
      "SkinThickness               False\n",
      "Insulin                     False\n",
      "BMI                         False\n",
      "DiabetesPedigreeFunction    False\n",
      "Age                         False\n",
      "Outcome                     False\n",
      "dtype: bool\n",
      "Pregnancies                  True\n",
      "Glucose                      True\n",
      "BloodPressure                True\n",
      "SkinThickness                True\n",
      "Insulin                      True\n",
      "BMI                          True\n",
      "DiabetesPedigreeFunction    False\n",
      "Age                         False\n",
      "Outcome                      True\n",
      "dtype: bool\n",
      "Pregnancies                 0\n",
      "Glucose                     0\n",
      "BloodPressure               0\n",
      "SkinThickness               0\n",
      "Insulin                     0\n",
      "BMI                         0\n",
      "DiabetesPedigreeFunction    0\n",
      "Age                         0\n",
      "Outcome                     0\n",
      "dtype: int64\n",
      "Pregnancies                 111\n",
      "Glucose                       5\n",
      "BloodPressure                35\n",
      "SkinThickness               227\n",
      "Insulin                     374\n",
      "BMI                          11\n",
      "DiabetesPedigreeFunction      0\n",
      "Age                           0\n",
      "Outcome                     500\n",
      "dtype: int64\n",
      "[[  6.    148.     72.    ...  33.6     0.627  50.   ]\n",
      " [  1.     85.     66.    ...  26.6     0.351  31.   ]\n",
      " [  8.    183.     64.    ...  23.3     0.672  32.   ]\n",
      " ...\n",
      " [  5.    121.     72.    ...  26.2     0.245  30.   ]\n",
      " [  1.    126.     60.    ...  30.1     0.349  47.   ]\n",
      " [  1.     93.     70.    ...  30.4     0.315  23.   ]]\n"
     ]
    }
   ],
   "source": [
    "# Importing the necessary libraries\n",
    "import numpy as np\n",
    "import pandas as pd\n",
    "\n",
    "# Load the dataset\n",
    "dataset = pd.read_csv(\"pima-indians-diabetes.csv\")\n",
    "X = dataset.iloc[:,:-1].values\n",
    "y = dataset.iloc[:,-1].values\n",
    "\n",
    "# Identify missing data (assumes that missing data is represented as NaN)\n",
    "print(dataset.eq(np.nan).any())\n",
    "print(dataset.eq(0).any())\n",
    "\n",
    "# Print the number of missing entries in each column\n",
    "print(dataset.isna().sum())\n",
    "print(dataset.eq(0).sum())\n",
    "\n",
    "# Configure an instance of the SimpleImputer class\n",
    "from sklearn.impute import SimpleImputer\n",
    "si = SimpleImputer(missing_values=0, strategy='mean')\n",
    "\n",
    "# Fit the imputer on the DataFrame\n",
    "si.fit(X[:,1:-2])\n",
    "\n",
    "# Apply the transform to the DataFrame\n",
    "X[:,1:-2] = si.transform(X[:,1:-2])\n",
    "\n",
    "#Print your updated matrix of features\n",
    "print(X)"
   ]
  },
  {
   "cell_type": "code",
   "execution_count": null,
   "id": "ea310c99-1c2c-4eb0-82f5-586504700b3c",
   "metadata": {},
   "outputs": [],
   "source": []
  }
 ],
 "metadata": {
  "kernelspec": {
   "display_name": "Python 3 (ipykernel)",
   "language": "python",
   "name": "python3"
  },
  "language_info": {
   "codemirror_mode": {
    "name": "ipython",
    "version": 3
   },
   "file_extension": ".py",
   "mimetype": "text/x-python",
   "name": "python",
   "nbconvert_exporter": "python",
   "pygments_lexer": "ipython3",
   "version": "3.9.18"
  }
 },
 "nbformat": 4,
 "nbformat_minor": 5
}
