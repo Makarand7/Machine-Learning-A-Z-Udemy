{
 "cells": [
  {
   "cell_type": "code",
   "execution_count": 1,
   "id": "92a4fa94-408d-4743-aaf7-5e31aa969acc",
   "metadata": {},
   "outputs": [
    {
     "name": "stdout",
     "output_type": "stream",
     "text": [
      "[[ 0.21833  0.88971  0.19209 ...  1.0935   0.45822  1.12318]\n",
      " [-1.29017 -1.78878  0.65275 ... -0.40044 -0.4012   1.40827]\n",
      " [ 1.49475 -0.78435  1.01105 ... -0.07567  0.51552 -0.58739]\n",
      " ...\n",
      " [-0.65196  0.4991  -1.08752 ...  1.28836 -0.68767 -0.87248]\n",
      " [-0.24582 -1.84458  0.39683 ...  0.05424  0.80199  1.40827]\n",
      " [-1.46422 -1.34237 -0.06383 ...  0.50892 -0.68767  2.92878]]\n",
      "[[-3.61860e-01  1.64290e-01 -9.85150e-01 ... -4.65390e-01 -1.30000e-04\n",
      "  -7.77450e-01]\n",
      " [-3.03840e-01 -1.70530e-01 -5.24490e-01 ...  5.08920e-01 -1.03144e+00\n",
      "  -8.72480e-01]\n",
      " [ 1.37871e+00  7.78110e-01 -2.68570e-01 ... -2.05580e-01  1.83329e+00\n",
      "  -4.92360e-01]\n",
      " ...\n",
      " [-1.37400e-02  3.87490e-01 -1.15020e-01 ... -1.04998e+00 -7.44960e-01\n",
      "  -5.87390e-01]\n",
      " [ 2.76350e-01 -1.45397e+00  6.01570e-01 ... -1.04998e+00  1.71750e-01\n",
      "   7.43050e-01]\n",
      " [ 4.50410e-01  1.30823e+00 -1.18989e+00 ... -1.40620e-01 -6.87670e-01\n",
      "  -6.82420e-01]]\n"
     ]
    }
   ],
   "source": [
    "# Import necessary libraries\n",
    "import numpy as np\n",
    "import pandas as pd\n",
    "\n",
    "from sklearn.preprocessing import StandardScaler\n",
    "from sklearn.model_selection import train_test_split\n",
    "\n",
    "# Load the Wine Quality Red dataset\n",
    "df = pd.read_csv(\"winequality-red.csv\",delimiter=';')\n",
    "\n",
    "# Separate features and target\n",
    "X = df.iloc[:,:-1].values\n",
    "y = df.iloc[:,-1].values\n",
    "\n",
    "# Split the dataset into an 80-20 training-test set\n",
    "X_train,X_test,y_train,y_test = train_test_split(X,y,test_size=0.2,random_state=42)\n",
    "\n",
    "# Create an instance of the StandardScaler class\n",
    "sc = StandardScaler()\n",
    "\n",
    "# Fit the StandardScaler on the features from the training set and transform it\n",
    "X_train[:,:] = sc.fit_transform(X_train[:,:])\n",
    "\n",
    "# Apply the transform to the test set\n",
    "X_test[:,:] = sc.transform(X_test[:,:])\n",
    "\n",
    "# Print the scaled training and test datasets\n",
    "X_train = np.round(X_train, 5)\n",
    "X_test = np.round(X_test, 5)\n",
    "\n",
    "print(X_train)\n",
    "print(X_test)"
   ]
  },
  {
   "cell_type": "code",
   "execution_count": null,
   "id": "85470ac2-483d-45ba-8376-80a74e5ae888",
   "metadata": {},
   "outputs": [],
   "source": []
  }
 ],
 "metadata": {
  "kernelspec": {
   "display_name": "Python 3 (ipykernel)",
   "language": "python",
   "name": "python3"
  },
  "language_info": {
   "codemirror_mode": {
    "name": "ipython",
    "version": 3
   },
   "file_extension": ".py",
   "mimetype": "text/x-python",
   "name": "python",
   "nbconvert_exporter": "python",
   "pygments_lexer": "ipython3",
   "version": "3.9.18"
  }
 },
 "nbformat": 4,
 "nbformat_minor": 5
}
